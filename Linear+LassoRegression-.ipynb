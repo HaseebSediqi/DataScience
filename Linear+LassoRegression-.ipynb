{
  "nbformat": 4,
  "nbformat_minor": 0,
  "metadata": {
    "colab": {
      "provenance": []
    },
    "kernelspec": {
      "name": "python3",
      "display_name": "Python 3"
    },
    "language_info": {
      "name": "python"
    }
  },
  "cells": [
    {
      "cell_type": "markdown",
      "source": [
        "Importing Libraries"
      ],
      "metadata": {
        "id": "CDGSSstopLHX"
      }
    },
    {
      "cell_type": "code",
      "source": [
        "import pandas as pd\n",
        "import numpy as np\n",
        "from sklearn.model_selection import train_test_split,cross_val_score\n",
        "from sklearn.linear_model import LinearRegression, Lasso,LassoCV\n",
        "import statsmodels.api as sm\n",
        "import matplotlib.pyplot as plt\n",
        "from sklearn.metrics import mean_squared_error, r2_score\n",
        "import seaborn as sns"
      ],
      "metadata": {
        "id": "Hdz8z-JcBCeL"
      },
      "execution_count": 76,
      "outputs": []
    },
    {
      "cell_type": "code",
      "execution_count": 4,
      "metadata": {
        "id": "ydSb8LZa_ctK"
      },
      "outputs": [],
      "source": [
        "data=pd.read_csv(\"HousingData.csv\") # loading datat"
      ]
    },
    {
      "cell_type": "markdown",
      "source": [
        "Data Exploration"
      ],
      "metadata": {
        "id": "diCl8oPkpY9W"
      }
    },
    {
      "cell_type": "code",
      "source": [
        "data.head()"
      ],
      "metadata": {
        "id": "nO5MYEQKBSWE"
      },
      "execution_count": null,
      "outputs": []
    },
    {
      "cell_type": "code",
      "source": [
        "data.shape"
      ],
      "metadata": {
        "id": "KQdgFCv4EFI8"
      },
      "execution_count": null,
      "outputs": []
    },
    {
      "cell_type": "code",
      "source": [
        "data.isnull().sum()"
      ],
      "metadata": {
        "id": "fxShtZqaBfRL"
      },
      "execution_count": null,
      "outputs": []
    },
    {
      "cell_type": "code",
      "source": [
        "null_columns = data.columns[data.isnull().any()]\n",
        "data[null_columns].isnull().sum()"
      ],
      "metadata": {
        "id": "CiFE443BCF9z"
      },
      "execution_count": null,
      "outputs": []
    },
    {
      "cell_type": "markdown",
      "source": [
        "Handling Missing Values"
      ],
      "metadata": {
        "id": "FdJuyTlSpbQX"
      }
    },
    {
      "cell_type": "code",
      "source": [
        "medians = data.median()"
      ],
      "metadata": {
        "id": "CcJFimCfDDQf"
      },
      "execution_count": 5,
      "outputs": []
    },
    {
      "cell_type": "code",
      "source": [
        "data_cleaned = data.fillna(data.median()) #assiging median of each col to na values"
      ],
      "metadata": {
        "id": "JXgYRqOJE9qs"
      },
      "execution_count": 6,
      "outputs": []
    },
    {
      "cell_type": "code",
      "source": [
        "data_cleaned.head(9)"
      ],
      "metadata": {
        "id": "DIjplj9qFV-1"
      },
      "execution_count": null,
      "outputs": []
    },
    {
      "cell_type": "code",
      "source": [
        "data_cleaned.isnull().sum()"
      ],
      "metadata": {
        "id": "rl2bXdzVFvlz"
      },
      "execution_count": null,
      "outputs": []
    },
    {
      "cell_type": "markdown",
      "source": [
        "Seperating  features X ( Predictors ) and Target variable Y"
      ],
      "metadata": {
        "id": "X3yPfeInGiSV"
      }
    },
    {
      "cell_type": "code",
      "source": [
        "X = data_cleaned.drop('MEDV', axis = 1) # axis = 1 shows opertion perform on columns\n",
        "Y = data_cleaned['MEDV']"
      ],
      "metadata": {
        "id": "_7Ri6ozWG4qq"
      },
      "execution_count": 25,
      "outputs": []
    },
    {
      "cell_type": "markdown",
      "source": [
        "Spliting data into Training and Testing Sets"
      ],
      "metadata": {
        "id": "1nBRbgXHHflU"
      }
    },
    {
      "cell_type": "code",
      "source": [
        "X_train, X_test, Y_train, Y_test = train_test_split(X, Y, test_size=0.2, random_state=42)"
      ],
      "metadata": {
        "id": "tnwIQiZKHimB"
      },
      "execution_count": 26,
      "outputs": []
    },
    {
      "cell_type": "code",
      "source": [
        "model = LinearRegression()\n",
        "model.fit(X_train, Y_train)"
      ],
      "metadata": {
        "id": "CNg9JxqkJ0am"
      },
      "execution_count": null,
      "outputs": []
    },
    {
      "cell_type": "markdown",
      "source": [
        "Bigger the Magnititude of Ceoficient, bigger is the influence of that feature in prediction. Intercept is the value of response variable when all other features are zero."
      ],
      "metadata": {
        "id": "T18Jon7Psm_j"
      }
    },
    {
      "cell_type": "code",
      "source": [
        "print(\"Model Coefficients: \", model.coef_)\n",
        "print(\"Model Intercept: \", model.intercept_)"
      ],
      "metadata": {
        "colab": {
          "base_uri": "https://localhost:8080/"
        },
        "id": "_dHsJNSSK7o7",
        "outputId": "fee5d99e-32f6-416b-8041-087903a76204"
      },
      "execution_count": 49,
      "outputs": [
        {
          "output_type": "stream",
          "name": "stdout",
          "text": [
            "Model Coefficients:  [-1.12573993e-01  2.81793653e-02 -2.56559077e-02  3.27948215e+00\n",
            " -1.59783383e+01  4.71714026e+00 -1.81899639e-02 -1.50621917e+00\n",
            "  2.18216881e-01 -9.05444537e-03 -8.90009543e-01  1.20329382e-02\n",
            " -4.44166764e-01]\n",
            "Model Intercept:  28.16795337495841\n"
          ]
        }
      ]
    },
    {
      "cell_type": "markdown",
      "source": [
        "Visualize the importance of each feature. We can see NOX ( the higher the value of Nitrogen in envrionemnt, has biggest negative impact in pricing of house ) also RM and CHAS played role in the price"
      ],
      "metadata": {
        "id": "1CFl9yTisgG9"
      }
    },
    {
      "cell_type": "code",
      "source": [
        "features = X.columns\n",
        "importances = model.coef_\n",
        "plt.figure(figsize=(10,6))\n",
        "plt.barh(features,importances)\n",
        "plt.xlabel(\"Coeficient values\")\n",
        "plt.title(\"Feature Importance\")\n",
        "plt.show()"
      ],
      "metadata": {
        "colab": {
          "base_uri": "https://localhost:8080/",
          "height": 416
        },
        "id": "yLkcxRwnMhMM",
        "outputId": "12ccaa09-a120-4ecd-e2a7-7d54cc6c1265"
      },
      "execution_count": 54,
      "outputs": [
        {
          "output_type": "display_data",
          "data": {
            "text/plain": [
              "<Figure size 1000x600 with 1 Axes>"
            ],
            "image/png": "[encoded data removed]"
          },
          "metadata": {}
        }
      ]
    },
    {
      "cell_type": "markdown",
      "source": [
        "R2 indicates 65% of variance are explained by the features. While MSE indicate 24.9%, indicating the percntage of error. The Higher R2 value and lower MSE value, indicates better model fit. Our model performs moderately well."
      ],
      "metadata": {
        "id": "N3DeQkInuN80"
      }
    },
    {
      "cell_type": "code",
      "source": [
        "Y_pred = model.predict(X_test)\n",
        "mse = mean_squared_error(Y_test,Y_pred)\n",
        "r2 = r2_score(Y_test,Y_pred)\n",
        "print(\"Mean Squared Error: \",mse)\n",
        "print(\"R2 : \",r2)"
      ],
      "metadata": {
        "colab": {
          "base_uri": "https://localhost:8080/"
        },
        "id": "kWA7BgBaMqV2",
        "outputId": "8ec60a8d-dedf-4f56-c27f-8fde1b77da95"
      },
      "execution_count": 72,
      "outputs": [
        {
          "output_type": "stream",
          "name": "stdout",
          "text": [
            "Mean Squared Error:  24.999384790103406\n",
            "R2 :  0.6591013893903506\n"
          ]
        }
      ]
    },
    {
      "cell_type": "markdown",
      "source": [
        "Visualizing Actual vs Predicted value by model. If blue dots are closely align to red line, indicates better model fit. we see some of data points are far away but most of them are align on or closer to the line"
      ],
      "metadata": {
        "id": "UH2zLE_KurA7"
      }
    },
    {
      "cell_type": "code",
      "source": [
        "plt.figure(figsize=(10,6))\n",
        "plt.scatter(Y_test,Y_pred,color='blue')\n",
        "plt.plot([Y_test.min(), Y_test.max()], [Y_test.min(), Y_test.max()], color='red')\n",
        "plt.xlabel('Actual Values')\n",
        "plt.ylabel('Predicted Values')\n",
        "plt.title('Actual vs. Predicted Values')\n",
        "plt.grid(True)\n",
        "plt.show()"
      ],
      "metadata": {
        "colab": {
          "base_uri": "https://localhost:8080/",
          "height": 425
        },
        "id": "vc88ZUEUagJu",
        "outputId": "0b378a24-b77a-46a4-ebed-3133054ed2d3"
      },
      "execution_count": 82,
      "outputs": [
        {
          "output_type": "display_data",
          "data": {
            "text/plain": [
              "<Figure size 1000x600 with 1 Axes>"
            ],
            "image/png": "[encoded data removed]"
          },
          "metadata": {}
        }
      ]
    },
    {
      "cell_type": "markdown",
      "source": [
        "Each blue point represents a prediction from the model, with the x-axis showing the predicted value and the y-axis showing the corresponding residual (error).\n",
        "Residual= Yactual− Ypredicted\n",
        "​"
      ],
      "metadata": {
        "id": "4frSP7oavCXw"
      }
    },
    {
      "cell_type": "code",
      "source": [
        "plt.figure(figsize=(10,6))\n",
        "residuals = Y_test -  Y_pred\n",
        "plt.scatter(Y_pred,residuals,color = \"blue\")\n",
        "plt.hlines(y=0, xmin=Y_pred.min(), xmax=Y_pred.max(), colors='red')\n",
        "plt.xlabel(\"Predicted Value\")\n",
        "plt.ylabel(\"Residuals\")\n",
        "plt.title(\"Residual Plot\")\n",
        "plt.grid(True)\n",
        "plt.show()"
      ],
      "metadata": {
        "colab": {
          "base_uri": "https://localhost:8080/",
          "height": 420
        },
        "id": "HIgxdA0XhKHO",
        "outputId": "4e1b2b1c-a362-46a1-8c71-e166711a4fbb"
      },
      "execution_count": 85,
      "outputs": [
        {
          "output_type": "display_data",
          "data": {
            "text/plain": [
              "<Figure size 1000x600 with 1 Axes>"
            ],
            "image/png": "[encoded data removed]"
          },
          "metadata": {}
        }
      ]
    },
    {
      "cell_type": "markdown",
      "source": [
        "Lets fit another model and consider onl the most important features to see if model improves"
      ],
      "metadata": {
        "id": "U3wumNzmvdRK"
      }
    },
    {
      "cell_type": "code",
      "source": [
        "X2 = data_cleaned[['RM','NOX','CHAS','LSTAT','DIS','PTRATIO','RAD']]\n",
        "Y2 = data_cleaned['MEDV']"
      ],
      "metadata": {
        "id": "3T4s6t65TCyF"
      },
      "execution_count": 86,
      "outputs": []
    },
    {
      "cell_type": "code",
      "source": [
        "X2_train,X2_test,Y2_train,Y2_test = train_test_split(X2,Y2,test_size=0.2, random_state=42)"
      ],
      "metadata": {
        "id": "QG3VNrN_Mofm"
      },
      "execution_count": 87,
      "outputs": []
    },
    {
      "cell_type": "code",
      "source": [
        "model2 = LinearRegression()\n",
        "model2.fit(X2_train,Y2_train)"
      ],
      "metadata": {
        "colab": {
          "base_uri": "https://localhost:8080/",
          "height": 74
        },
        "id": "p84JdFdqT2iY",
        "outputId": "90e0481c-d793-4555-c315-6426681aeef7"
      },
      "execution_count": 88,
      "outputs": [
        {
          "output_type": "execute_result",
          "data": {
            "text/plain": [
              "LinearRegression()"
            ],
            "text/html": [
              "<style>#sk-container-id-16 {color: black;}#sk-container-id-16 pre{padding: 0;}#sk-container-id-16 div.sk-toggleable {background-color: white;}#sk-container-id-16 label.sk-toggleable__label {cursor: pointer;display: block;width: 100%;margin-bottom: 0;padding: 0.3em;box-sizing: border-box;text-align: center;}#sk-container-id-16 label.sk-toggleable__label-arrow:before {content: \"▸\";float: left;margin-right: 0.25em;color: #696969;}#sk-container-id-16 label.sk-toggleable__label-arrow:hover:before {color: black;}#sk-container-id-16 div.sk-estimator:hover label.sk-toggleable__label-arrow:before {color: black;}#sk-container-id-16 div.sk-toggleable__content {max-height: 0;max-width: 0;overflow: hidden;text-align: left;background-color: #f0f8ff;}#sk-container-id-16 div.sk-toggleable__content pre {margin: 0.2em;color: black;border-radius: 0.25em;background-color: #f0f8ff;}#sk-container-id-16 input.sk-toggleable__control:checked~div.sk-toggleable__content {max-height: 200px;max-width: 100%;overflow: auto;}#sk-container-id-16 input.sk-toggleable__control:checked~label.sk-toggleable__label-arrow:before {content: \"▾\";}#sk-container-id-16 div.sk-estimator input.sk-toggleable__control:checked~label.sk-toggleable__label {background-color: #d4ebff;}#sk-container-id-16 div.sk-label input.sk-toggleable__control:checked~label.sk-toggleable__label {background-color: #d4ebff;}#sk-container-id-16 input.sk-hidden--visually {border: 0;clip: rect(1px 1px 1px 1px);clip: rect(1px, 1px, 1px, 1px);height: 1px;margin: -1px;overflow: hidden;padding: 0;position: absolute;width: 1px;}#sk-container-id-16 div.sk-estimator {font-family: monospace;background-color: #f0f8ff;border: 1px dotted black;border-radius: 0.25em;box-sizing: border-box;margin-bottom: 0.5em;}#sk-container-id-16 div.sk-estimator:hover {background-color: #d4ebff;}#sk-container-id-16 div.sk-parallel-item::after {content: \"\";width: 100%;border-bottom: 1px solid gray;flex-grow: 1;}#sk-container-id-16 div.sk-label:hover label.sk-toggleable__label {background-color: #d4ebff;}#sk-container-id-16 div.sk-serial::before {content: \"\";position: absolute;border-left: 1px solid gray;box-sizing: border-box;top: 0;bottom: 0;left: 50%;z-index: 0;}#sk-container-id-16 div.sk-serial {display: flex;flex-direction: column;align-items: center;background-color: white;padding-right: 0.2em;padding-left: 0.2em;position: relative;}#sk-container-id-16 div.sk-item {position: relative;z-index: 1;}#sk-container-id-16 div.sk-parallel {display: flex;align-items: stretch;justify-content: center;background-color: white;position: relative;}#sk-container-id-16 div.sk-item::before, #sk-container-id-16 div.sk-parallel-item::before {content: \"\";position: absolute;border-left: 1px solid gray;box-sizing: border-box;top: 0;bottom: 0;left: 50%;z-index: -1;}#sk-container-id-16 div.sk-parallel-item {display: flex;flex-direction: column;z-index: 1;position: relative;background-color: white;}#sk-container-id-16 div.sk-parallel-item:first-child::after {align-self: flex-end;width: 50%;}#sk-container-id-16 div.sk-parallel-item:last-child::after {align-self: flex-start;width: 50%;}#sk-container-id-16 div.sk-parallel-item:only-child::after {width: 0;}#sk-container-id-16 div.sk-dashed-wrapped {border: 1px dashed gray;margin: 0 0.4em 0.5em 0.4em;box-sizing: border-box;padding-bottom: 0.4em;background-color: white;}#sk-container-id-16 div.sk-label label {font-family: monospace;font-weight: bold;display: inline-block;line-height: 1.2em;}#sk-container-id-16 div.sk-label-container {text-align: center;}#sk-container-id-16 div.sk-container {/* jupyter's `normalize.less` sets `[hidden] { display: none; }` but bootstrap.min.css set `[hidden] { display: none !important; }` so we also need the `!important` here to be able to override the default hidden behavior on the sphinx rendered scikit-learn.org. See: https://github.com/scikit-learn/scikit-learn/issues/21755 */display: inline-block !important;position: relative;}#sk-container-id-16 div.sk-text-repr-fallback {display: none;}</style><div id=\"sk-container-id-16\" class=\"sk-top-container\"><div class=\"sk-text-repr-fallback\"><pre>LinearRegression()</pre><b>In a Jupyter environment, please rerun this cell to show the HTML representation or trust the notebook. <br />On GitHub, the HTML representation is unable to render, please try loading this page with nbviewer.org.</b></div><div class=\"sk-container\" hidden><div class=\"sk-item\"><div class=\"sk-estimator sk-toggleable\"><input class=\"sk-toggleable__control sk-hidden--visually\" id=\"sk-estimator-id-16\" type=\"checkbox\" checked><label for=\"sk-estimator-id-16\" class=\"sk-toggleable__label sk-toggleable__label-arrow\">LinearRegression</label><div class=\"sk-toggleable__content\"><pre>LinearRegression()</pre></div></div></div></div></div>"
            ]
          },
          "metadata": {},
          "execution_count": 88
        }
      ]
    },
    {
      "cell_type": "code",
      "source": [
        "print(\"Coeficients: \",model2.coef_)\n",
        "print(\"Intercept: \",model2.intercept_)"
      ],
      "metadata": {
        "colab": {
          "base_uri": "https://localhost:8080/"
        },
        "id": "lM04Ix09UHm3",
        "outputId": "00aafb77-cc4c-40ac-e2d0-17f2323c50b5"
      },
      "execution_count": 89,
      "outputs": [
        {
          "output_type": "stream",
          "name": "stdout",
          "text": [
            "Coeficients:  [ 4.70386543e+00 -2.05620584e+01  3.92290983e+00 -5.19518227e-01\n",
            " -1.15566279e+00 -9.74538920e-01 -8.47490910e-03]\n",
            "Intercept:  33.05335876919537\n"
          ]
        }
      ]
    },
    {
      "cell_type": "markdown",
      "source": [
        "New Model with lesser feature did not improve our model as we got approximately same values for MSE and R2 as we had in previous model"
      ],
      "metadata": {
        "id": "0Rs2Suf1wezZ"
      }
    },
    {
      "cell_type": "code",
      "source": [
        "Y2_pred = model2.predict(X2_test)\n",
        "mse2 = mean_squared_error(Y2_test,Y2_pred)\n",
        "r22 = r2_score(Y2_test,Y2_pred)\n",
        "print(\"MSE : \", mse2)\n",
        "print(\"R2:,\",r22)"
      ],
      "metadata": {
        "colab": {
          "base_uri": "https://localhost:8080/"
        },
        "id": "u5ja9KZsUoak",
        "outputId": "e904b12a-cd4a-4f93-fc82-47b6b8445444"
      },
      "execution_count": 90,
      "outputs": [
        {
          "output_type": "stream",
          "name": "stdout",
          "text": [
            "MSE :  25.27856882066974\n",
            "R2:, 0.655294357780431\n"
          ]
        }
      ]
    },
    {
      "cell_type": "markdown",
      "source": [
        "We can try Lasso Regression with a penalty value of alpha ( Tuning regularization parameter). we keep trying different values for alpha till we get a value that does not improve model futher"
      ],
      "metadata": {
        "id": "dSQWg4TywqVq"
      }
    },
    {
      "cell_type": "code",
      "source": [
        "lasso_model = Lasso(alpha = 0.001)\n",
        "lasso_model.fit(X_train,Y_train)"
      ],
      "metadata": {
        "colab": {
          "base_uri": "https://localhost:8080/",
          "height": 74
        },
        "id": "VpK4mR3TRryW",
        "outputId": "fd6eccb4-465a-448b-ddd7-82c9ceaa4bb5"
      },
      "execution_count": 65,
      "outputs": [
        {
          "output_type": "execute_result",
          "data": {
            "text/plain": [
              "Lasso(alpha=0.001)"
            ],
            "text/html": [
              "<style>#sk-container-id-14 {color: black;}#sk-container-id-14 pre{padding: 0;}#sk-container-id-14 div.sk-toggleable {background-color: white;}#sk-container-id-14 label.sk-toggleable__label {cursor: pointer;display: block;width: 100%;margin-bottom: 0;padding: 0.3em;box-sizing: border-box;text-align: center;}#sk-container-id-14 label.sk-toggleable__label-arrow:before {content: \"▸\";float: left;margin-right: 0.25em;color: #696969;}#sk-container-id-14 label.sk-toggleable__label-arrow:hover:before {color: black;}#sk-container-id-14 div.sk-estimator:hover label.sk-toggleable__label-arrow:before {color: black;}#sk-container-id-14 div.sk-toggleable__content {max-height: 0;max-width: 0;overflow: hidden;text-align: left;background-color: #f0f8ff;}#sk-container-id-14 div.sk-toggleable__content pre {margin: 0.2em;color: black;border-radius: 0.25em;background-color: #f0f8ff;}#sk-container-id-14 input.sk-toggleable__control:checked~div.sk-toggleable__content {max-height: 200px;max-width: 100%;overflow: auto;}#sk-container-id-14 input.sk-toggleable__control:checked~label.sk-toggleable__label-arrow:before {content: \"▾\";}#sk-container-id-14 div.sk-estimator input.sk-toggleable__control:checked~label.sk-toggleable__label {background-color: #d4ebff;}#sk-container-id-14 div.sk-label input.sk-toggleable__control:checked~label.sk-toggleable__label {background-color: #d4ebff;}#sk-container-id-14 input.sk-hidden--visually {border: 0;clip: rect(1px 1px 1px 1px);clip: rect(1px, 1px, 1px, 1px);height: 1px;margin: -1px;overflow: hidden;padding: 0;position: absolute;width: 1px;}#sk-container-id-14 div.sk-estimator {font-family: monospace;background-color: #f0f8ff;border: 1px dotted black;border-radius: 0.25em;box-sizing: border-box;margin-bottom: 0.5em;}#sk-container-id-14 div.sk-estimator:hover {background-color: #d4ebff;}#sk-container-id-14 div.sk-parallel-item::after {content: \"\";width: 100%;border-bottom: 1px solid gray;flex-grow: 1;}#sk-container-id-14 div.sk-label:hover label.sk-toggleable__label {background-color: #d4ebff;}#sk-container-id-14 div.sk-serial::before {content: \"\";position: absolute;border-left: 1px solid gray;box-sizing: border-box;top: 0;bottom: 0;left: 50%;z-index: 0;}#sk-container-id-14 div.sk-serial {display: flex;flex-direction: column;align-items: center;background-color: white;padding-right: 0.2em;padding-left: 0.2em;position: relative;}#sk-container-id-14 div.sk-item {position: relative;z-index: 1;}#sk-container-id-14 div.sk-parallel {display: flex;align-items: stretch;justify-content: center;background-color: white;position: relative;}#sk-container-id-14 div.sk-item::before, #sk-container-id-14 div.sk-parallel-item::before {content: \"\";position: absolute;border-left: 1px solid gray;box-sizing: border-box;top: 0;bottom: 0;left: 50%;z-index: -1;}#sk-container-id-14 div.sk-parallel-item {display: flex;flex-direction: column;z-index: 1;position: relative;background-color: white;}#sk-container-id-14 div.sk-parallel-item:first-child::after {align-self: flex-end;width: 50%;}#sk-container-id-14 div.sk-parallel-item:last-child::after {align-self: flex-start;width: 50%;}#sk-container-id-14 div.sk-parallel-item:only-child::after {width: 0;}#sk-container-id-14 div.sk-dashed-wrapped {border: 1px dashed gray;margin: 0 0.4em 0.5em 0.4em;box-sizing: border-box;padding-bottom: 0.4em;background-color: white;}#sk-container-id-14 div.sk-label label {font-family: monospace;font-weight: bold;display: inline-block;line-height: 1.2em;}#sk-container-id-14 div.sk-label-container {text-align: center;}#sk-container-id-14 div.sk-container {/* jupyter's `normalize.less` sets `[hidden] { display: none; }` but bootstrap.min.css set `[hidden] { display: none !important; }` so we also need the `!important` here to be able to override the default hidden behavior on the sphinx rendered scikit-learn.org. See: https://github.com/scikit-learn/scikit-learn/issues/21755 */display: inline-block !important;position: relative;}#sk-container-id-14 div.sk-text-repr-fallback {display: none;}</style><div id=\"sk-container-id-14\" class=\"sk-top-container\"><div class=\"sk-text-repr-fallback\"><pre>Lasso(alpha=0.001)</pre><b>In a Jupyter environment, please rerun this cell to show the HTML representation or trust the notebook. <br />On GitHub, the HTML representation is unable to render, please try loading this page with nbviewer.org.</b></div><div class=\"sk-container\" hidden><div class=\"sk-item\"><div class=\"sk-estimator sk-toggleable\"><input class=\"sk-toggleable__control sk-hidden--visually\" id=\"sk-estimator-id-14\" type=\"checkbox\" checked><label for=\"sk-estimator-id-14\" class=\"sk-toggleable__label sk-toggleable__label-arrow\">Lasso</label><div class=\"sk-toggleable__content\"><pre>Lasso(alpha=0.001)</pre></div></div></div></div></div>"
            ]
          },
          "metadata": {},
          "execution_count": 65
        }
      ]
    },
    {
      "cell_type": "code",
      "source": [
        "Y_lasso_pred = lasso_model.predict(X_test)"
      ],
      "metadata": {
        "id": "Q7kKLgVySAoz"
      },
      "execution_count": 67,
      "outputs": []
    },
    {
      "cell_type": "code",
      "source": [
        "mse_lasso = mean_squared_error(Y_test,Y_lasso_pred)\n",
        "r2_lasso = r2_score(Y_test,Y_lasso_pred)\n",
        "print(\"Mean Squared Error: \", mse_lasso)\n",
        "print(\"R2: \",r2_lasso)"
      ],
      "metadata": {
        "colab": {
          "base_uri": "https://localhost:8080/"
        },
        "id": "BcOkfbj8TvlK",
        "outputId": "00ad7045-8d93-49c3-eb66-f0f2261e5042"
      },
      "execution_count": 68,
      "outputs": [
        {
          "output_type": "stream",
          "name": "stdout",
          "text": [
            "Mean Squared Error:  24.998863232828917\n",
            "R2:  0.659108501491377\n"
          ]
        }
      ]
    },
    {
      "cell_type": "markdown",
      "source": [
        "Rather then manually trying different Alpha values, we can use cross validation to chose the optimal value for Alpha"
      ],
      "metadata": {
        "id": "vXxso2u_w8eF"
      }
    },
    {
      "cell_type": "code",
      "source": [
        "alphas = np.logspace(-3,1,50)"
      ],
      "metadata": {
        "id": "1KKNwsn8XEsH"
      },
      "execution_count": 57,
      "outputs": []
    },
    {
      "cell_type": "code",
      "source": [
        "lasso_cv_model = LassoCV(alphas=alphas, cv=5)\n",
        "lasso_cv_model.fit(X_train,Y_train)"
      ],
      "metadata": {
        "colab": {
          "base_uri": "https://localhost:8080/",
          "height": 271
        },
        "id": "OP3zfuDLXOiU",
        "outputId": "b73a0b33-2af5-4a0b-cfb0-8947019d97ce"
      },
      "execution_count": 60,
      "outputs": [
        {
          "output_type": "execute_result",
          "data": {
            "text/plain": [
              "LassoCV(alphas=array([1.00000000e-03, 1.20679264e-03, 1.45634848e-03, 1.75751062e-03,\n",
              "       2.12095089e-03, 2.55954792e-03, 3.08884360e-03, 3.72759372e-03,\n",
              "       4.49843267e-03, 5.42867544e-03, 6.55128557e-03, 7.90604321e-03,\n",
              "       9.54095476e-03, 1.15139540e-02, 1.38949549e-02, 1.67683294e-02,\n",
              "       2.02358965e-02, 2.44205309e-02, 2.94705170e-02, 3.55648031e-02,\n",
              "       4.29193426e-02, 5.17947468e-0...\n",
              "       9.10298178e-02, 1.09854114e-01, 1.32571137e-01, 1.59985872e-01,\n",
              "       1.93069773e-01, 2.32995181e-01, 2.81176870e-01, 3.39322177e-01,\n",
              "       4.09491506e-01, 4.94171336e-01, 5.96362332e-01, 7.19685673e-01,\n",
              "       8.68511374e-01, 1.04811313e+00, 1.26485522e+00, 1.52641797e+00,\n",
              "       1.84206997e+00, 2.22299648e+00, 2.68269580e+00, 3.23745754e+00,\n",
              "       3.90693994e+00, 4.71486636e+00, 5.68986603e+00, 6.86648845e+00,\n",
              "       8.28642773e+00, 1.00000000e+01]),\n",
              "        cv=5)"
            ],
            "text/html": [
              "<style>#sk-container-id-13 {color: black;}#sk-container-id-13 pre{padding: 0;}#sk-container-id-13 div.sk-toggleable {background-color: white;}#sk-container-id-13 label.sk-toggleable__label {cursor: pointer;display: block;width: 100%;margin-bottom: 0;padding: 0.3em;box-sizing: border-box;text-align: center;}#sk-container-id-13 label.sk-toggleable__label-arrow:before {content: \"▸\";float: left;margin-right: 0.25em;color: #696969;}#sk-container-id-13 label.sk-toggleable__label-arrow:hover:before {color: black;}#sk-container-id-13 div.sk-estimator:hover label.sk-toggleable__label-arrow:before {color: black;}#sk-container-id-13 div.sk-toggleable__content {max-height: 0;max-width: 0;overflow: hidden;text-align: left;background-color: #f0f8ff;}#sk-container-id-13 div.sk-toggleable__content pre {margin: 0.2em;color: black;border-radius: 0.25em;background-color: #f0f8ff;}#sk-container-id-13 input.sk-toggleable__control:checked~div.sk-toggleable__content {max-height: 200px;max-width: 100%;overflow: auto;}#sk-container-id-13 input.sk-toggleable__control:checked~label.sk-toggleable__label-arrow:before {content: \"▾\";}#sk-container-id-13 div.sk-estimator input.sk-toggleable__control:checked~label.sk-toggleable__label {background-color: #d4ebff;}#sk-container-id-13 div.sk-label input.sk-toggleable__control:checked~label.sk-toggleable__label {background-color: #d4ebff;}#sk-container-id-13 input.sk-hidden--visually {border: 0;clip: rect(1px 1px 1px 1px);clip: rect(1px, 1px, 1px, 1px);height: 1px;margin: -1px;overflow: hidden;padding: 0;position: absolute;width: 1px;}#sk-container-id-13 div.sk-estimator {font-family: monospace;background-color: #f0f8ff;border: 1px dotted black;border-radius: 0.25em;box-sizing: border-box;margin-bottom: 0.5em;}#sk-container-id-13 div.sk-estimator:hover {background-color: #d4ebff;}#sk-container-id-13 div.sk-parallel-item::after {content: \"\";width: 100%;border-bottom: 1px solid gray;flex-grow: 1;}#sk-container-id-13 div.sk-label:hover label.sk-toggleable__label {background-color: #d4ebff;}#sk-container-id-13 div.sk-serial::before {content: \"\";position: absolute;border-left: 1px solid gray;box-sizing: border-box;top: 0;bottom: 0;left: 50%;z-index: 0;}#sk-container-id-13 div.sk-serial {display: flex;flex-direction: column;align-items: center;background-color: white;padding-right: 0.2em;padding-left: 0.2em;position: relative;}#sk-container-id-13 div.sk-item {position: relative;z-index: 1;}#sk-container-id-13 div.sk-parallel {display: flex;align-items: stretch;justify-content: center;background-color: white;position: relative;}#sk-container-id-13 div.sk-item::before, #sk-container-id-13 div.sk-parallel-item::before {content: \"\";position: absolute;border-left: 1px solid gray;box-sizing: border-box;top: 0;bottom: 0;left: 50%;z-index: -1;}#sk-container-id-13 div.sk-parallel-item {display: flex;flex-direction: column;z-index: 1;position: relative;background-color: white;}#sk-container-id-13 div.sk-parallel-item:first-child::after {align-self: flex-end;width: 50%;}#sk-container-id-13 div.sk-parallel-item:last-child::after {align-self: flex-start;width: 50%;}#sk-container-id-13 div.sk-parallel-item:only-child::after {width: 0;}#sk-container-id-13 div.sk-dashed-wrapped {border: 1px dashed gray;margin: 0 0.4em 0.5em 0.4em;box-sizing: border-box;padding-bottom: 0.4em;background-color: white;}#sk-container-id-13 div.sk-label label {font-family: monospace;font-weight: bold;display: inline-block;line-height: 1.2em;}#sk-container-id-13 div.sk-label-container {text-align: center;}#sk-container-id-13 div.sk-container {/* jupyter's `normalize.less` sets `[hidden] { display: none; }` but bootstrap.min.css set `[hidden] { display: none !important; }` so we also need the `!important` here to be able to override the default hidden behavior on the sphinx rendered scikit-learn.org. See: https://github.com/scikit-learn/scikit-learn/issues/21755 */display: inline-block !important;position: relative;}#sk-container-id-13 div.sk-text-repr-fallback {display: none;}</style><div id=\"sk-container-id-13\" class=\"sk-top-container\"><div class=\"sk-text-repr-fallback\"><pre>LassoCV(alphas=array([1.00000000e-03, 1.20679264e-03, 1.45634848e-03, 1.75751062e-03,\n",
              "       2.12095089e-03, 2.55954792e-03, 3.08884360e-03, 3.72759372e-03,\n",
              "       4.49843267e-03, 5.42867544e-03, 6.55128557e-03, 7.90604321e-03,\n",
              "       9.54095476e-03, 1.15139540e-02, 1.38949549e-02, 1.67683294e-02,\n",
              "       2.02358965e-02, 2.44205309e-02, 2.94705170e-02, 3.55648031e-02,\n",
              "       4.29193426e-02, 5.17947468e-0...\n",
              "       9.10298178e-02, 1.09854114e-01, 1.32571137e-01, 1.59985872e-01,\n",
              "       1.93069773e-01, 2.32995181e-01, 2.81176870e-01, 3.39322177e-01,\n",
              "       4.09491506e-01, 4.94171336e-01, 5.96362332e-01, 7.19685673e-01,\n",
              "       8.68511374e-01, 1.04811313e+00, 1.26485522e+00, 1.52641797e+00,\n",
              "       1.84206997e+00, 2.22299648e+00, 2.68269580e+00, 3.23745754e+00,\n",
              "       3.90693994e+00, 4.71486636e+00, 5.68986603e+00, 6.86648845e+00,\n",
              "       8.28642773e+00, 1.00000000e+01]),\n",
              "        cv=5)</pre><b>In a Jupyter environment, please rerun this cell to show the HTML representation or trust the notebook. <br />On GitHub, the HTML representation is unable to render, please try loading this page with nbviewer.org.</b></div><div class=\"sk-container\" hidden><div class=\"sk-item\"><div class=\"sk-estimator sk-toggleable\"><input class=\"sk-toggleable__control sk-hidden--visually\" id=\"sk-estimator-id-13\" type=\"checkbox\" checked><label for=\"sk-estimator-id-13\" class=\"sk-toggleable__label sk-toggleable__label-arrow\">LassoCV</label><div class=\"sk-toggleable__content\"><pre>LassoCV(alphas=array([1.00000000e-03, 1.20679264e-03, 1.45634848e-03, 1.75751062e-03,\n",
              "       2.12095089e-03, 2.55954792e-03, 3.08884360e-03, 3.72759372e-03,\n",
              "       4.49843267e-03, 5.42867544e-03, 6.55128557e-03, 7.90604321e-03,\n",
              "       9.54095476e-03, 1.15139540e-02, 1.38949549e-02, 1.67683294e-02,\n",
              "       2.02358965e-02, 2.44205309e-02, 2.94705170e-02, 3.55648031e-02,\n",
              "       4.29193426e-02, 5.17947468e-0...\n",
              "       9.10298178e-02, 1.09854114e-01, 1.32571137e-01, 1.59985872e-01,\n",
              "       1.93069773e-01, 2.32995181e-01, 2.81176870e-01, 3.39322177e-01,\n",
              "       4.09491506e-01, 4.94171336e-01, 5.96362332e-01, 7.19685673e-01,\n",
              "       8.68511374e-01, 1.04811313e+00, 1.26485522e+00, 1.52641797e+00,\n",
              "       1.84206997e+00, 2.22299648e+00, 2.68269580e+00, 3.23745754e+00,\n",
              "       3.90693994e+00, 4.71486636e+00, 5.68986603e+00, 6.86648845e+00,\n",
              "       8.28642773e+00, 1.00000000e+01]),\n",
              "        cv=5)</pre></div></div></div></div></div>"
            ]
          },
          "metadata": {},
          "execution_count": 60
        }
      ]
    },
    {
      "cell_type": "code",
      "source": [
        "best_alpha_cv = lasso_cv_model.alpha_\n",
        "print(\"Best Value for alpha: \", best_alpha_cv)"
      ],
      "metadata": {
        "colab": {
          "base_uri": "https://localhost:8080/"
        },
        "id": "v2L45PrxXZ8G",
        "outputId": "c0e57c2c-c789-4181-9a44-eb15f5a21ca6"
      },
      "execution_count": 62,
      "outputs": [
        {
          "output_type": "stream",
          "name": "stdout",
          "text": [
            "Best Value for alpha:  0.001\n"
          ]
        }
      ]
    },
    {
      "cell_type": "markdown",
      "source": [
        "We can see even, Lasso model did not improve the result. But overall the reuslt and performance is average. One way to improve, would be trying a bigger data set or using non linear models like Decision Tree or Random Forest"
      ],
      "metadata": {
        "id": "qps90R5Yx54E"
      }
    },
    {
      "cell_type": "code",
      "source": [
        "Y_pred_lasso_cv = lasso_cv_model.predict(X_test)\n",
        "mse_lasso_cv = mean_squared_error(Y_test,Y_pred_lasso_cv)\n",
        "r2_lasso_cv =  r2_score(Y_test,Y_pred_lasso_cv)\n",
        "print(\"Means square error: \", mse_lasso_cv)\n",
        "print(\"R squared: \",r2_lasso_cv)"
      ],
      "metadata": {
        "colab": {
          "base_uri": "https://localhost:8080/"
        },
        "id": "JR1a9Rx2Yy4Q",
        "outputId": "8b5f89f1-7b21-4381-f286-9886a3088609"
      },
      "execution_count": 64,
      "outputs": [
        {
          "output_type": "stream",
          "name": "stdout",
          "text": [
            "Means square error:  24.998863232828917\n",
            "R squared:  0.659108501491377\n"
          ]
        }
      ]
    }
  ]
}